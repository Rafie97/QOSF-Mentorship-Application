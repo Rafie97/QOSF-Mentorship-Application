{
 "cells": [
  {
   "cell_type": "code",
   "execution_count": 1,
   "metadata": {},
   "outputs": [],
   "source": [
    "# Useful additional packages\n",
    "import matplotlib.pyplot as plt\n",
    "%matplotlib inline\n",
    "import numpy as np\n",
    "from math import pi\n",
    "import qiskit\n",
    "import random\n",
    "import math\n",
    "\n",
    "from qiskit import QuantumCircuit, ClassicalRegister, QuantumRegister, execute\n",
    "from qiskit.tools.visualization import circuit_drawer\n",
    "from qiskit.quantum_info import state_fidelity\n",
    "from qiskit import BasicAer\n",
    "from qiskit.visualization import plot_state_city\n",
    "import pennylane as qml\n",
    "\n",
    "backend = BasicAer.get_backend('qasm_simulator')\n",
    "backendState = BasicAer.get_backend('statevector_simulator')"
   ]
  },
  {
   "cell_type": "markdown",
   "metadata": {},
   "source": [
    "### _Intro: Making the circuit which fits the criteria_\n"
   ]
  },
  {
   "cell_type": "code",
   "execution_count": 2,
   "metadata": {},
   "outputs": [
    {
     "data": {
      "text/plain": [
       "{'10': 522, '01': 502}"
      ]
     },
     "execution_count": 2,
     "metadata": {},
     "output_type": "execute_result"
    }
   ],
   "source": [
    "q = QuantumRegister(2)\n",
    "c = ClassicalRegister(2)\n",
    "circ = QuantumCircuit(q,c)\n",
    "\n",
    "circ.h(0)\n",
    "circ.x(1)\n",
    "circ.cx(0,1)\n",
    "\n",
    "circ.measure(q,c)\n",
    "\n",
    "jobShots = execute(circ, backend, shots=1024)\n",
    "jobShots.result().get_counts(circ)"
   ]
  },
  {
   "cell_type": "markdown",
   "metadata": {},
   "source": [
    "###  _Using functions which fit the desired state and applying gradient descent_"
   ]
  },
  {
   "cell_type": "code",
   "execution_count": 3,
   "metadata": {},
   "outputs": [],
   "source": [
    "def steepestDescentTheta1(init, tol, nmax, scale):\n",
    "    theta = init\n",
    "    n=0\n",
    "    eps = 0\n",
    "    while n<nmax or eps>tol:\n",
    "        yhat = -math.sin(theta)\n",
    "        dydt = -math.cos(theta)\n",
    "        \n",
    "        theta_next = theta - scale*dydt\n",
    "        \n",
    "        eps = ((theta_next-theta)**2)\n",
    "\n",
    "        theta = theta_next\n",
    "        n=n+1\n",
    "        \n",
    "    return theta\n",
    "    "
   ]
  },
  {
   "cell_type": "code",
   "execution_count": 4,
   "metadata": {},
   "outputs": [],
   "source": [
    "def steepestDescentTheta2(init, tol, nmax, scale):\n",
    "    theta = init\n",
    "    n=0\n",
    "    eps = 0\n",
    "    while n<nmax or eps>tol:\n",
    "        yhat = math.cos(theta)\n",
    "        dydt = -math.sin(theta)\n",
    "        \n",
    "        theta_next = theta - scale*dydt\n",
    "        \n",
    "        eps = ((theta_next-theta)**2)\n",
    "\n",
    "        theta = theta_next\n",
    "        n=n+1\n",
    "        \n",
    "    return theta"
   ]
  },
  {
   "cell_type": "code",
   "execution_count": 5,
   "metadata": {},
   "outputs": [],
   "source": [
    "def steepestDescentBoth(init, tol, nmax, scale):\n",
    "    theta1 = init[0]\n",
    "    theta2 = init[1]\n",
    "    n=0\n",
    "    eps1 = 1\n",
    "    eps2 = 1\n",
    "    while n<nmax:\n",
    "        \n",
    "        yhat = -math.sin(theta1) + math.cos(theta2) \n",
    "        dydt1 = -math.cos(theta1)\n",
    "        dydt2 = -math.sin(theta2) \n",
    "        \n",
    "        theta1_next = theta1 - dydt1\n",
    "        theta2_next = theta2 - dydt2\n",
    "        \n",
    "        \n",
    "        if (eps1 < tol) :\n",
    "            eps2 = (theta2_next-theta2)**2 \n",
    "            theta2 = theta2_next\n",
    "            \n",
    "        if (eps2 < tol): \n",
    "            eps1 = (theta1_next-theta1)**2 \n",
    "            theta1 = theta1_next\n",
    "            \n",
    "        elif (eps1>=tol) and (eps2>=tol):\n",
    "            eps1 = (theta1_next-theta1)**2 \n",
    "            eps2 = (theta2_next-theta2)**2\n",
    "            \n",
    "            theta1 = theta1_next\n",
    "            theta2 = theta2_next\n",
    "        \n",
    "        n=n+1\n",
    "        \n",
    "    print(n)\n",
    "    return [theta1, theta2]"
   ]
  },
  {
   "cell_type": "code",
   "execution_count": 6,
   "metadata": {},
   "outputs": [
    {
     "name": "stdout",
     "output_type": "stream",
     "text": [
      "10000\n",
      "Theta 1 and Theta 2:  1.5707963267948966 3.141592653589793\n"
     ]
    }
   ],
   "source": [
    "\n",
    "qr2 = QuantumRegister(2)\n",
    "c2 = ClassicalRegister(2)\n",
    "qc2 = QuantumCircuit(qr2,c2)\n",
    "\n",
    "theta1_init = random.random()*2*pi\n",
    "theta2_init = random.random()*2*pi\n",
    "\n",
    "\n",
    "#th1 = steepestDescentTheta1(theta1_init, 1, 40000, 1)\n",
    "#th2 = steepestDescentTheta2(theta2_init, 1, 40000, 1)\n",
    "\n",
    "[th1, th2] = steepestDescentBoth(np.array([theta1_init, theta2_init]), 1e-6 ,10000, 1)\n",
    "\n",
    "\n",
    "print(\"Theta 1 and Theta 2: \", th1, th2)"
   ]
  },
  {
   "cell_type": "code",
   "execution_count": 7,
   "metadata": {},
   "outputs": [
    {
     "name": "stdout",
     "output_type": "stream",
     "text": [
      "[0.        +0.j 0.70710678+0.j 0.70710678+0.j 0.        +0.j]\n"
     ]
    }
   ],
   "source": [
    "qc2.ry(th1, 0)\n",
    "qc2.ry(th2, 1)\n",
    "qc2.cx(0,1)\n",
    "\n",
    "\n",
    "job2 = execute(qc2, backendState)\n",
    "fullState = job2.result().get_statevector(qc2, decimals=3)\n",
    "print(fullState)"
   ]
  },
  {
   "cell_type": "code",
   "execution_count": 8,
   "metadata": {},
   "outputs": [
    {
     "data": {
      "text/plain": [
       "<qiskit.circuit.instructionset.InstructionSet at 0x1db3f310fd0>"
      ]
     },
     "execution_count": 8,
     "metadata": {},
     "output_type": "execute_result"
    }
   ],
   "source": [
    "qc2.measure(qr2,c2)"
   ]
  },
  {
   "cell_type": "code",
   "execution_count": 9,
   "metadata": {},
   "outputs": [
    {
     "data": {
      "text/plain": [
       "{'10': 1}"
      ]
     },
     "execution_count": 9,
     "metadata": {},
     "output_type": "execute_result"
    }
   ],
   "source": [
    "jobShots = execute(qc2, backend, shots=1)\n",
    "jobShots.result().get_counts(qc2)"
   ]
  },
  {
   "cell_type": "code",
   "execution_count": 10,
   "metadata": {},
   "outputs": [
    {
     "data": {
      "text/plain": [
       "{'10': 53, '01': 47}"
      ]
     },
     "execution_count": 10,
     "metadata": {},
     "output_type": "execute_result"
    }
   ],
   "source": [
    "jobShots = execute(qc2, backend, shots=100)\n",
    "jobShots.result().get_counts(qc2)"
   ]
  },
  {
   "cell_type": "code",
   "execution_count": 11,
   "metadata": {},
   "outputs": [
    {
     "data": {
      "text/plain": [
       "{'01': 462, '10': 538}"
      ]
     },
     "execution_count": 11,
     "metadata": {},
     "output_type": "execute_result"
    }
   ],
   "source": [
    "jobShots = execute(qc2, backend, shots=1000)\n",
    "jobShots.result().get_counts(qc2)"
   ]
  },
  {
   "cell_type": "code",
   "execution_count": null,
   "metadata": {},
   "outputs": [],
   "source": [
    "#This was a nice exercise in circuits, I enjoyed matching a real 2D function to the desired state and learned how\n",
    "# to optimize on single parameters to achieve it. I could have made this harder by using RX gates as well\n",
    "# but I believe RY gates are just a more elegant method. \n",
    "\n",
    "#To make the state |01>-|10>, we would keep the second initial state at |0> \n",
    "\n",
    "\n",
    "\n",
    "\n",
    "\n",
    "#Here is a pattern I found in the state described (not grad des):\n",
    "\n",
    "'''\n",
    "err1 = abs( 0 - fullState[0]) \n",
    "err2 = abs( 1/np.sqrt(2) - fullState[1]) \n",
    "err3 = abs( 1/np.sqrt(2) - fullState[2]) \n",
    "err4 = abs( 0 - fullState[3]) \n",
    "f = (err1 + err2 + err3 + err4)**2\n",
    "\n",
    "stepsize = 0.001\n",
    "while f>0.001 :\n",
    "    qc.data.pop()\n",
    "    qc.data.pop()\n",
    "    qc.data.pop()\n",
    "    \n",
    "    \n",
    "    #####Pattern\n",
    "    #if prob(00)=0 and prob(11)=0 second qubit is correct\n",
    "    if math.isclose(fullState[0], 0.0 , abs_tol=1e-3) and math.isclose(fullState[3], 0.0, abs_tol=1e-3):    \n",
    "        th1 = th1 + stepsize\n",
    "    \n",
    "    \n",
    "    #if prob 00=11 and prob 10=01, first qubit is correct\n",
    "    if math.isclose(fullState[0],fullState[3], rel_tol=1e-3) and math.isclose(fullState[1],fullState[2], rel_tol=1e-3):     \n",
    "        th2 = th2 + stepsize\n",
    "    #####\n",
    "        \n",
    "    else:\n",
    "        th1 = th1 + stepsize\n",
    "        th2 = th2 + stepsize\n",
    "        \n",
    "    qc.ry(th1, 0)\n",
    "    qc.ry(th2, 1)\n",
    "    qc.cx(0,1)\n",
    "\n",
    "    \n",
    "    job2 = execute(qc, backendState)\n",
    "    fullState = job2.result().get_statevector(qc, decimals=3)\n",
    "\n",
    "    err1 = abs( 0 - fullState[0]) \n",
    "    err2 = abs( 1/np.sqrt(2) - fullState[1]) \n",
    "    err3 = abs( 1/np.sqrt(2) - fullState[2]) \n",
    "    err4 = abs( 0 - fullState[3])  \n",
    "    \n",
    "    f = (err1 + err2 + err3 + err4)**2\n",
    "        \n",
    "print(th1, th2)\n",
    "'''\n",
    "\n",
    "\n",
    "\n",
    "'''\n",
    "Also, I could not get this code working as I don't know PennyLane well, and was running out of time. \n",
    "\n",
    "\n",
    "import pennylane as qml\n",
    "from pennylane import expval\n",
    "from pennylane.optimize import GradientDescentOptimizer\n",
    "\n",
    "dev = qml.device('default.qubit', wires=2)\n",
    "\n",
    "@qml.qnode(dev)\n",
    "\n",
    "def qfunc(th):\n",
    "    qml.RY(th[0], wires=0)\n",
    "    qml.RX(th[1], wires=0)\n",
    "    qml.RY(th[2], wires=1)\n",
    "    qml.RY(th[3], wires=1)\n",
    "    qml.CNOT(wires=[0,1])\n",
    "    return qml.expval(qml.PauliZ(0) @ qml.PauliZ(1))\n",
    "\n",
    "opt = GradientDescentOptimizer(0.1)\n",
    "\n",
    "th = [0.001, 0.001, 0.001, 0.001]\n",
    "for it in range(100):\n",
    "    th = opt.step(qfunc, th)\n",
    "    print(\"Step {}: cost:  {}\".format(it, qfunc(th)))\n",
    "\n",
    "'''\n",
    "\n"
   ]
  },
  {
   "cell_type": "code",
   "execution_count": null,
   "metadata": {},
   "outputs": [],
   "source": []
  }
 ],
 "metadata": {
  "kernelspec": {
   "display_name": "Python 3",
   "language": "python",
   "name": "python3"
  },
  "language_info": {
   "codemirror_mode": {
    "name": "ipython",
    "version": 3
   },
   "file_extension": ".py",
   "mimetype": "text/x-python",
   "name": "python",
   "nbconvert_exporter": "python",
   "pygments_lexer": "ipython3",
   "version": "3.8.3"
  }
 },
 "nbformat": 4,
 "nbformat_minor": 4
}
